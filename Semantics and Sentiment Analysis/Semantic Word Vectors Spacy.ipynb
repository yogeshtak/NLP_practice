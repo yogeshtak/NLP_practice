{
 "cells": [
  {
   "cell_type": "code",
   "execution_count": 1,
   "metadata": {
    "pycharm": {
     "is_executing": false
    }
   },
   "outputs": [],
   "source": [
    "import spacy"
   ]
  },
  {
   "cell_type": "code",
   "execution_count": 2,
   "metadata": {
    "pycharm": {
     "name": "#%%\n"
    }
   },
   "outputs": [],
   "source": [
    "nlp = spacy.load('en_core_web_md')"
   ]
  },
  {
   "cell_type": "code",
   "execution_count": 3,
   "metadata": {},
   "outputs": [
    {
     "data": {
      "text/plain": [
       "array([-0.73734  , -0.21723  , -0.0057086, -0.70546  ,  0.91892  ,\n",
       "        0.11962  ,  0.026047 , -0.20541  , -0.24512  , -0.82177  ,\n",
       "       -0.34003  , -0.20455  , -0.34613  , -0.015079 ,  0.29575  ,\n",
       "        0.22098  , -0.53345  , -0.48305  ,  0.61992  , -0.29829  ,\n",
       "        0.18393  , -0.050819 ,  0.055808 , -0.32073  ,  0.34512  ,\n",
       "        0.37406  , -0.0020645,  0.25965  ,  0.20038  ,  1.0377   ,\n",
       "        0.16002  ,  0.0087781,  0.38864  ,  0.44497  , -0.1494   ,\n",
       "       -0.041039 ,  0.092425 , -0.33187  , -0.3988   ,  0.36484  ,\n",
       "        0.43804  ,  0.13806  , -0.12814  , -0.22111  ,  0.24563  ,\n",
       "       -0.39295  ,  0.40334  ,  0.29363  , -0.59938  , -0.31034  ,\n",
       "        0.57062  ,  0.19473  ,  0.40447  , -0.23618  , -0.51966  ,\n",
       "        0.024898 , -0.17556  ,  0.43054  , -0.33062  , -0.38777  ,\n",
       "       -0.39376  ,  0.33062  ,  0.25948  , -0.5017   ,  0.2642   ,\n",
       "       -0.15745  ,  0.87683  ,  0.96322  , -0.034149 ,  0.15019  ,\n",
       "       -0.32473  ,  0.24747  ,  0.34065  ,  0.13586  ,  0.26029  ,\n",
       "        0.24487  ,  0.4564   , -0.23914  ,  0.1698   ,  0.08978  ,\n",
       "       -0.46666  ,  0.02826  , -0.62308  ,  0.13756  , -0.40091  ,\n",
       "        0.85751  ,  1.7413   , -0.63084  ,  0.058457 , -0.62022  ,\n",
       "       -0.065848 , -0.24193  ,  0.097822 ,  0.079716 ,  0.24202  ,\n",
       "        0.56071  ,  0.063583 ,  0.55549  , -0.44387  , -0.040473 ,\n",
       "       -0.4445   , -0.48022  , -0.42756  ,  0.7327   , -0.044141 ,\n",
       "       -1.5287   , -0.01011  ,  0.4105   ,  0.48749  ,  0.38277  ,\n",
       "       -0.022496 ,  0.040211 ,  0.0073704, -0.42824  , -0.55079  ,\n",
       "        0.12881  ,  0.22939  ,  0.79258  , -0.31973  , -0.32843  ,\n",
       "        0.37416  ,  0.36992  , -0.40394  , -0.58051  , -0.30147  ,\n",
       "       -0.55246  ,  0.16041  ,  0.4214   ,  0.18973  , -0.63358  ,\n",
       "        0.34553  ,  0.3867   ,  0.29597  , -0.10738  ,  0.25178  ,\n",
       "       -0.1365   , -0.26786  ,  0.041355 ,  0.17349  , -0.53461  ,\n",
       "        0.011797 , -0.63509  ,  0.20212  , -0.38261  ,  0.043897 ,\n",
       "       -0.1004   ,  0.13261  ,  0.76041  , -0.26151  ,  0.12632  ,\n",
       "        0.22055  ,  0.25854  , -0.36743  , -0.047208 ,  0.40718  ,\n",
       "        0.18235  ,  0.38627  ,  0.17163  ,  0.2349   ,  0.60178  ,\n",
       "        0.52835  ,  0.12555  ,  0.3015   , -0.47418  , -0.4263   ,\n",
       "        0.4886   ,  0.72384  , -0.401    , -0.38388  ,  0.16359  ,\n",
       "       -0.18741  ,  0.3854   ,  0.29139  ,  0.15288  ,  0.38578  ,\n",
       "        0.65719  , -0.31492  ,  0.60745  ,  0.2988   ,  0.20746  ,\n",
       "        0.29726  , -0.042887 , -0.43256  ,  0.19099  , -0.27676  ,\n",
       "        0.74347  ,  0.34695  ,  0.1174   ,  0.0036892,  0.13556  ,\n",
       "        0.14788  , -0.41136  ,  0.3179   ,  0.01716  , -0.28169  ,\n",
       "       -0.20657  , -0.22812  , -0.021054 ,  0.55978  , -0.085479 ,\n",
       "        0.61511  , -0.48829  ,  0.23034  ,  0.11649  ,  0.48559  ,\n",
       "        0.5758   ,  0.47533  , -0.18702  , -0.33145  ,  0.086138 ,\n",
       "        0.49278  ,  0.051928 ,  1.1874   ,  0.14404  , -0.54809  ,\n",
       "        0.18936  ,  0.79779  , -0.4065   ,  0.63254  ,  0.22734  ,\n",
       "        0.046172 ,  0.68546  , -0.16083  ,  0.24774  , -0.14686  ,\n",
       "       -0.32495  , -0.47283  , -0.76768  ,  0.3474   , -0.52113  ,\n",
       "       -0.082762 ,  0.18831  ,  0.019995 ,  0.71951  , -0.82759  ,\n",
       "       -0.24029  , -0.04304  , -0.047375 ,  0.30573  , -0.10179  ,\n",
       "        0.0070591,  0.20577  , -0.18406  , -0.54482  , -0.73398  ,\n",
       "       -0.77675  ,  0.50032  , -0.10466  , -0.417    ,  0.33682  ,\n",
       "        0.14846  ,  0.13539  ,  0.0061528, -0.12338  ,  0.063851 ,\n",
       "       -0.99452  , -0.30853  , -0.080856 ,  0.1745   , -0.34519  ,\n",
       "       -0.20494  , -0.079701 ,  0.40529  ,  0.79068  ,  0.63954  ,\n",
       "        0.19159  , -0.12526  ,  0.12406  , -0.39001  , -0.39706  ,\n",
       "       -0.24036  ,  0.077133 ,  0.1727   , -0.057159 , -0.61827  ,\n",
       "        0.6266   , -0.13856  ,  0.12715  ,  0.36429  , -0.66887  ,\n",
       "       -0.51777  , -0.52167  , -0.94209  ,  1.0681   , -0.54989  ,\n",
       "        0.62302  ,  0.16798  ,  0.21343  ,  0.32864  ,  1.0206   ,\n",
       "       -0.2587   , -0.25267  , -0.22081  , -0.077243 ,  0.66507  ,\n",
       "        0.15631  ,  0.023555 ,  0.13779  ,  0.099688 , -0.078863 ],\n",
       "      dtype=float32)"
      ]
     },
     "execution_count": 3,
     "metadata": {},
     "output_type": "execute_result"
    }
   ],
   "source": [
    "nlp(u'AXA').vector"
   ]
  },
  {
   "cell_type": "code",
   "execution_count": 4,
   "metadata": {},
   "outputs": [
    {
     "data": {
      "text/plain": [
       "(300,)"
      ]
     },
     "execution_count": 4,
     "metadata": {},
     "output_type": "execute_result"
    }
   ],
   "source": [
    "nlp(u'AXA').vector.shape"
   ]
  },
  {
   "cell_type": "code",
   "execution_count": 5,
   "metadata": {},
   "outputs": [
    {
     "data": {
      "text/plain": [
       "(300,)"
      ]
     },
     "execution_count": 5,
     "metadata": {},
     "output_type": "execute_result"
    }
   ],
   "source": [
    "nlp(u'AXA is the biggest insurance company in the world.').vector.shape"
   ]
  },
  {
   "cell_type": "markdown",
   "metadata": {},
   "source": [
    "There are 300 dimensions to this vector. For **'AXA' (word)** there 300 dimensions. For **'AXA is the biggest insurance company in the world.' (document)** it will give averaged 300 dimensions of all the vectors of all words in that document."
   ]
  },
  {
   "cell_type": "markdown",
   "metadata": {},
   "source": [
    "\n",
    "#### Finding Similarity between words"
   ]
  },
  {
   "cell_type": "code",
   "execution_count": 8,
   "metadata": {},
   "outputs": [],
   "source": [
    "tokens = nlp(u'Car Bike Vehicle')"
   ]
  },
  {
   "cell_type": "code",
   "execution_count": 9,
   "metadata": {},
   "outputs": [
    {
     "name": "stdout",
     "output_type": "stream",
     "text": [
      "Car Car 1.0\n",
      "Car Bike 0.53577304\n",
      "Car Vehicle 0.7667538\n",
      "Bike Car 0.53577304\n",
      "Bike Bike 1.0\n",
      "Bike Vehicle 0.44815367\n",
      "Vehicle Car 0.7667538\n",
      "Vehicle Bike 0.44815367\n",
      "Vehicle Vehicle 1.0\n"
     ]
    }
   ],
   "source": [
    "for token1 in tokens:\n",
    "    for token2 in tokens:\n",
    "        print(token1.text, token2.text, token1.similarity(token2))"
   ]
  },
  {
   "cell_type": "code",
   "execution_count": 10,
   "metadata": {},
   "outputs": [],
   "source": [
    "tokens2 = nlp(u'like love hate')"
   ]
  },
  {
   "cell_type": "code",
   "execution_count": 11,
   "metadata": {},
   "outputs": [
    {
     "name": "stdout",
     "output_type": "stream",
     "text": [
      "like like 1.0\n",
      "like love 0.657904\n",
      "like hate 0.65746516\n",
      "love like 0.657904\n",
      "love love 1.0\n",
      "love hate 0.63930994\n",
      "hate like 0.65746516\n",
      "hate love 0.63930994\n",
      "hate hate 1.0\n"
     ]
    }
   ],
   "source": [
    "for token1 in tokens2:\n",
    "    for token2 in tokens2:\n",
    "        print(token1.text, token2.text, token1.similarity(token2))"
   ]
  },
  {
   "cell_type": "code",
   "execution_count": 12,
   "metadata": {},
   "outputs": [
    {
     "data": {
      "text/plain": [
       "(20000, 300)"
      ]
     },
     "execution_count": 12,
     "metadata": {},
     "output_type": "execute_result"
    }
   ],
   "source": [
    "#checking the number of words in our model vocab\n",
    "nlp.vocab.vectors.shape"
   ]
  },
  {
   "cell_type": "markdown",
   "metadata": {},
   "source": [
    "We have 20000 words with 300 dimensions. (Medium Model). The large model has 684831 words in its vocab"
   ]
  },
  {
   "cell_type": "code",
   "execution_count": 13,
   "metadata": {},
   "outputs": [],
   "source": [
    "tokens = nlp(u'dog cat Yogesh')"
   ]
  },
  {
   "cell_type": "code",
   "execution_count": 14,
   "metadata": {},
   "outputs": [
    {
     "name": "stdout",
     "output_type": "stream",
     "text": [
      "dog True 7.0336733 False\n",
      "cat True 6.6808186 False\n",
      "Yogesh False 0.0 True\n"
     ]
    }
   ],
   "source": [
    "for token in tokens:\n",
    "    print(token.text, token.has_vector, token.vector_norm, token.is_oov)"
   ]
  },
  {
   "cell_type": "markdown",
   "metadata": {},
   "source": [
    "This is printing token.text (Yogesh), token.has_vector in vocab (False), token.vector_norm(value 0.0), token.is_oov (out of vocab True)"
   ]
  },
  {
   "cell_type": "code",
   "execution_count": 15,
   "metadata": {},
   "outputs": [
    {
     "name": "stdout",
     "output_type": "stream",
     "text": [
      "dog True 7.0336733 False\n",
      "cat True 6.6808186 False\n",
      "Victor True 5.7749805 False\n"
     ]
    }
   ],
   "source": [
    "tokens = nlp(u'dog cat Victor')\n",
    "\n",
    "for token in tokens:\n",
    "    print(token.text, token.has_vector, token.vector_norm, token.is_oov)"
   ]
  },
  {
   "cell_type": "code",
   "execution_count": 16,
   "metadata": {},
   "outputs": [],
   "source": [
    "from scipy import spatial"
   ]
  },
  {
   "cell_type": "code",
   "execution_count": 17,
   "metadata": {},
   "outputs": [],
   "source": [
    "cosine_similarity  = lambda vec1,vec2: 1- spatial.distance.cosine(vec1,vec2)"
   ]
  },
  {
   "cell_type": "code",
   "execution_count": 19,
   "metadata": {},
   "outputs": [],
   "source": [
    "king = nlp.vocab['King'].vector\n",
    "man = nlp.vocab['man'].vector\n",
    "woman = nlp.vocab['woman'].vector"
   ]
  },
  {
   "cell_type": "code",
   "execution_count": 20,
   "metadata": {},
   "outputs": [],
   "source": [
    "#king - man + woman ----> New_vector similar to Queen, princess or highness"
   ]
  },
  {
   "cell_type": "code",
   "execution_count": 21,
   "metadata": {},
   "outputs": [],
   "source": [
    "new_vector = king - man + woman"
   ]
  },
  {
   "cell_type": "code",
   "execution_count": 22,
   "metadata": {},
   "outputs": [],
   "source": [
    "computed_similarities = []\n",
    "\n",
    "#for all words in my model vocab\n",
    "for word in nlp.vocab:\n",
    "    if word.has_vector:\n",
    "        if word.is_lower:\n",
    "            if word.is_alpha:\n",
    "                similarity = cosine_similarity(new_vector, word.vector)\n",
    "                computed_similarities.append((word,similarity))\n",
    "    "
   ]
  },
  {
   "cell_type": "code",
   "execution_count": 23,
   "metadata": {},
   "outputs": [],
   "source": [
    "computed_similarities = sorted(computed_similarities, key= lambda item:-item[1])"
   ]
  },
  {
   "cell_type": "code",
   "execution_count": 24,
   "metadata": {},
   "outputs": [
    {
     "name": "stdout",
     "output_type": "stream",
     "text": [
      "['king', 'queen', 'commoner', 'highness', 'prince', 'sultan', 'maharajas', 'princes', 'kumbia', 'kings']\n"
     ]
    }
   ],
   "source": [
    "print([t[0].text for t in computed_similarities[:10] ])"
   ]
  },
  {
   "cell_type": "code",
   "execution_count": null,
   "metadata": {},
   "outputs": [],
   "source": []
  }
 ],
 "metadata": {
  "kernelspec": {
   "display_name": "Python 3",
   "language": "python",
   "name": "python3"
  },
  "language_info": {
   "codemirror_mode": {
    "name": "ipython",
    "version": 3
   },
   "file_extension": ".py",
   "mimetype": "text/x-python",
   "name": "python",
   "nbconvert_exporter": "python",
   "pygments_lexer": "ipython3",
   "version": "3.7.1"
  },
  "pycharm": {
   "stem_cell": {
    "cell_type": "raw",
    "metadata": {
     "collapsed": false
    },
    "source": []
   }
  }
 },
 "nbformat": 4,
 "nbformat_minor": 1
}
